{
 "cells": [
  {
   "cell_type": "markdown",
   "metadata": {},
   "source": [
    "## The battle of the neighborhouds - week 1\n",
    "\n",
    "#### Data:\n",
    "\n",
    "the data that will be analysed is: Nework City\n",
    "\n",
    "Data 1: A dataset that includes 5 neighborhoods and 306 neighborhoods of Newyork. \n",
    "\n",
    "Data 2: The second dataset includes the area where big corporates operate."
   ]
  }
 ],
 "metadata": {
  "kernelspec": {
   "display_name": "Python",
   "language": "python",
   "name": "conda-env-python-py"
  },
  "language_info": {
   "codemirror_mode": {
    "name": "ipython",
    "version": 3
   },
   "file_extension": ".py",
   "mimetype": "text/x-python",
   "name": "python",
   "nbconvert_exporter": "python",
   "pygments_lexer": "ipython3",
   "version": "3.6.10"
  }
 },
 "nbformat": 4,
 "nbformat_minor": 4
}
