{
 "cells": [
  {
   "cell_type": "markdown",
   "metadata": {},
   "source": [
    "## The battle of the neighborhoods - Week 1\n",
    "\n",
    "### Introduction.\n",
    "\n",
    "#### Problem backround:\n",
    "\n",
    "New york is a global hub of business and commerce, as a center for banking and finance, retailing, world trade, transportation, tourism, real estate and more.  \n",
    "\n",
    "#### Problem Description:\n",
    "\n",
    "Sport B.V. wants to open a gym in New york. The owners want to know where they should locate the business. They want me to investigate the best top 3 gym locations.\n",
    "\n",
    "The gym is a high standard gym this means a contribution starts from 1.500 till 3.000.\n",
    "\n",
    "#### The succes criteria:\n",
    "\n",
    "the succes criteria will be a good recommendation of borough/neighborhoud choice to Sport B.V. based on the lack of such gyms and close to the target members."
   ]
  }
 ],
 "metadata": {
  "kernelspec": {
   "display_name": "Python",
   "language": "python",
   "name": "conda-env-python-py"
  },
  "language_info": {
   "codemirror_mode": {
    "name": "ipython",
    "version": 3
   },
   "file_extension": ".py",
   "mimetype": "text/x-python",
   "name": "python",
   "nbconvert_exporter": "python",
   "pygments_lexer": "ipython3",
   "version": "3.6.10"
  }
 },
 "nbformat": 4,
 "nbformat_minor": 4
}
